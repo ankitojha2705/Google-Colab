{
  "nbformat": 4,
  "nbformat_minor": 0,
  "metadata": {
    "colab": {
      "provenance": [],
      "authorship_tag": "ABX9TyMePoxN8aG1U5VExma1AGq6",
      "include_colab_link": true
    },
    "kernelspec": {
      "name": "python3",
      "display_name": "Python 3"
    },
    "language_info": {
      "name": "python"
    }
  },
  "cells": [
    {
      "cell_type": "markdown",
      "metadata": {
        "id": "view-in-github",
        "colab_type": "text"
      },
      "source": [
        "<a href=\"https://colab.research.google.com/github/ankitojha1999/Google_Colab/blob/main/Google_Colab_Practice.ipynb\" target=\"_parent\"><img src=\"https://colab.research.google.com/assets/colab-badge.svg\" alt=\"Open In Colab\"/></a>"
      ]
    },
    {
      "cell_type": "code",
      "execution_count": null,
      "metadata": {
        "id": "8XaoYPhJPwWB"
      },
      "outputs": [],
      "source": []
    },
    {
      "cell_type": "code",
      "execution_count": null,
      "metadata": {
        "id": "vsa7TIUuMs4v"
      },
      "outputs": [],
      "source": [
        "import pandas as pd\n",
        "import seaborn as sns\n",
        "import numpy as np\n",
        "from sklearn import svm\n",
        "import matplotlib.pyplot as plt\n",
        "\n",
        "import py3Dmol\n"
      ]
    },
    {
      "cell_type": "code",
      "source": [
        "! pip install py3Dmol"
      ],
      "metadata": {
        "colab": {
          "base_uri": "https://localhost:8080/"
        },
        "id": "0f1e3GEtVofw",
        "outputId": "b9f677ae-45d2-48d9-dfe4-caeff5a2ad44"
      },
      "execution_count": null,
      "outputs": [
        {
          "output_type": "stream",
          "name": "stdout",
          "text": [
            "Collecting py3Dmol\n",
            "  Downloading py3Dmol-2.4.0-py2.py3-none-any.whl.metadata (1.9 kB)\n",
            "Downloading py3Dmol-2.4.0-py2.py3-none-any.whl (7.0 kB)\n",
            "Installing collected packages: py3Dmol\n",
            "Successfully installed py3Dmol-2.4.0\n"
          ]
        }
      ]
    },
    {
      "cell_type": "code",
      "source": [
        "viewer = py3Dmol.view(query='pdb:5WOG')\n",
        "viewer.show()\n"
      ],
      "metadata": {
        "colab": {
          "base_uri": "https://localhost:8080/",
          "height": 497
        },
        "id": "HIwOOa6dV97p",
        "outputId": "2fc63813-5a6d-40c9-c5c9-c6694dd35c75"
      },
      "execution_count": null,
      "outputs": [
        {
          "output_type": "display_data",
          "data": {
            "application/3dmoljs_load.v0": "<div id=\"3dmolviewer_17258428818496788\"  style=\"position: relative; width: 640px; height: 480px;\">\n        <p id=\"3dmolwarning_17258428818496788\" style=\"background-color:#ffcccc;color:black\">3Dmol.js failed to load for some reason.  Please check your browser console for error messages.<br></p>\n        </div>\n<script>\n\nvar loadScriptAsync = function(uri){\n  return new Promise((resolve, reject) => {\n    //this is to ignore the existence of requirejs amd\n    var savedexports, savedmodule;\n    if (typeof exports !== 'undefined') savedexports = exports;\n    else exports = {}\n    if (typeof module !== 'undefined') savedmodule = module;\n    else module = {}\n\n    var tag = document.createElement('script');\n    tag.src = uri;\n    tag.async = true;\n    tag.onload = () => {\n        exports = savedexports;\n        module = savedmodule;\n        resolve();\n    };\n  var firstScriptTag = document.getElementsByTagName('script')[0];\n  firstScriptTag.parentNode.insertBefore(tag, firstScriptTag);\n});\n};\n\nif(typeof $3Dmolpromise === 'undefined') {\n$3Dmolpromise = null;\n  $3Dmolpromise = loadScriptAsync('https://cdnjs.cloudflare.com/ajax/libs/3Dmol/2.4.0/3Dmol-min.js');\n}\n\nvar viewer_17258428818496788 = null;\nvar warn = document.getElementById(\"3dmolwarning_17258428818496788\");\nif(warn) {\n    warn.parentNode.removeChild(warn);\n}\n$3Dmolpromise.then(function() {\nviewer_17258428818496788 = $3Dmol.createViewer(document.getElementById(\"3dmolviewer_17258428818496788\"),{backgroundColor:\"white\"});\n$3Dmol.download(\"pdb:5WOG\", viewer_17258428818496788, {}, function() {\nviewer_17258428818496788.zoomTo();\nviewer_17258428818496788.render();\n})\n});\n</script>",
            "text/html": [
              "<div id=\"3dmolviewer_17258428818496788\"  style=\"position: relative; width: 640px; height: 480px;\">\n",
              "        <p id=\"3dmolwarning_17258428818496788\" style=\"background-color:#ffcccc;color:black\">3Dmol.js failed to load for some reason.  Please check your browser console for error messages.<br></p>\n",
              "        </div>\n",
              "<script>\n",
              "\n",
              "var loadScriptAsync = function(uri){\n",
              "  return new Promise((resolve, reject) => {\n",
              "    //this is to ignore the existence of requirejs amd\n",
              "    var savedexports, savedmodule;\n",
              "    if (typeof exports !== 'undefined') savedexports = exports;\n",
              "    else exports = {}\n",
              "    if (typeof module !== 'undefined') savedmodule = module;\n",
              "    else module = {}\n",
              "\n",
              "    var tag = document.createElement('script');\n",
              "    tag.src = uri;\n",
              "    tag.async = true;\n",
              "    tag.onload = () => {\n",
              "        exports = savedexports;\n",
              "        module = savedmodule;\n",
              "        resolve();\n",
              "    };\n",
              "  var firstScriptTag = document.getElementsByTagName('script')[0];\n",
              "  firstScriptTag.parentNode.insertBefore(tag, firstScriptTag);\n",
              "});\n",
              "};\n",
              "\n",
              "if(typeof $3Dmolpromise === 'undefined') {\n",
              "$3Dmolpromise = null;\n",
              "  $3Dmolpromise = loadScriptAsync('https://cdnjs.cloudflare.com/ajax/libs/3Dmol/2.4.0/3Dmol-min.js');\n",
              "}\n",
              "\n",
              "var viewer_17258428818496788 = null;\n",
              "var warn = document.getElementById(\"3dmolwarning_17258428818496788\");\n",
              "if(warn) {\n",
              "    warn.parentNode.removeChild(warn);\n",
              "}\n",
              "$3Dmolpromise.then(function() {\n",
              "viewer_17258428818496788 = $3Dmol.createViewer(document.getElementById(\"3dmolviewer_17258428818496788\"),{backgroundColor:\"white\"});\n",
              "$3Dmol.download(\"pdb:5WOG\", viewer_17258428818496788, {}, function() {\n",
              "viewer_17258428818496788.zoomTo();\n",
              "viewer_17258428818496788.render();\n",
              "})\n",
              "});\n",
              "</script>"
            ]
          },
          "metadata": {}
        }
      ]
    },
    {
      "cell_type": "code",
      "source": [],
      "metadata": {
        "id": "bVu-JAS-QHxP"
      },
      "execution_count": null,
      "outputs": []
    },
    {
      "cell_type": "markdown",
      "source": [
        "# heading 1\n",
        "\n",
        "This represents tje contents of heading 1\n"
      ],
      "metadata": {
        "id": "VJyQKapQNJbk"
      }
    },
    {
      "cell_type": "code",
      "source": [
        "a = 1\n",
        "b = \"abcd\""
      ],
      "metadata": {
        "id": "Z-Qvo14hNXsP"
      },
      "execution_count": null,
      "outputs": []
    },
    {
      "cell_type": "code",
      "source": [
        "c= [1,2,3,4,5]"
      ],
      "metadata": {
        "id": "AC_8eubvNs5c"
      },
      "execution_count": null,
      "outputs": []
    },
    {
      "cell_type": "code",
      "source": [
        "d = [\"ankit\", \"john\", \"chayan\", \"sameer\"]\n"
      ],
      "metadata": {
        "id": "LRlSqFA_Nwc4"
      },
      "execution_count": null,
      "outputs": []
    },
    {
      "cell_type": "code",
      "source": [
        "for i,j in zip(c,d):\n",
        "  if i == 1:\n",
        "    print(j + ' has ' + str(i) + ' car')\n",
        "  else:\n",
        "     print(j + ' has ' + str(i) + ' car')"
      ],
      "metadata": {
        "colab": {
          "base_uri": "https://localhost:8080/"
        },
        "id": "yDUM7mW9N4BB",
        "outputId": "d2e89ecb-c25b-40bd-fd60-c89d0542b0d9"
      },
      "execution_count": null,
      "outputs": [
        {
          "output_type": "stream",
          "name": "stdout",
          "text": [
            "ankit has 1 car\n",
            "john has 2 car\n",
            "chayan has 3 car\n",
            "sameer has 4 car\n"
          ]
        }
      ]
    },
    {
      "cell_type": "markdown",
      "source": [
        "##heading 1.1"
      ],
      "metadata": {
        "id": "rgmglzkGR2Qj"
      }
    },
    {
      "cell_type": "markdown",
      "source": [
        "## heading 1.2\n",
        "\n"
      ],
      "metadata": {
        "id": "JiTie42UR-Lh"
      }
    },
    {
      "cell_type": "markdown",
      "source": [
        "##heading 1.3"
      ],
      "metadata": {
        "id": "03oxirVZSHK2"
      }
    },
    {
      "cell_type": "markdown",
      "source": [
        "### heading 1.3.1"
      ],
      "metadata": {
        "id": "wOLwRmjnSNCA"
      }
    },
    {
      "cell_type": "markdown",
      "source": [
        "#### heading 1.3.1.1\n"
      ],
      "metadata": {
        "id": "lem6fV7ySbf-"
      }
    },
    {
      "cell_type": "markdown",
      "source": [
        "# Derek banas python in one video tutorial"
      ],
      "metadata": {
        "id": "_Mya1830mAw_"
      }
    },
    {
      "cell_type": "code",
      "source": [
        "import random\n",
        "import sys\n",
        "import os"
      ],
      "metadata": {
        "id": "XsNGHCC8mFL3"
      },
      "execution_count": null,
      "outputs": []
    },
    {
      "cell_type": "code",
      "source": [
        "print(\"Hi this is ankit \")"
      ],
      "metadata": {
        "colab": {
          "base_uri": "https://localhost:8080/"
        },
        "id": "Rk8Aq9mQnA_y",
        "outputId": "9c7a1c3c-9fc1-4a6e-92f6-69fe74b6cfc7"
      },
      "execution_count": null,
      "outputs": [
        {
          "output_type": "stream",
          "name": "stdout",
          "text": [
            "Hi this is ankit \n"
          ]
        }
      ]
    },
    {
      "cell_type": "code",
      "source": [
        "name  = \"ankit\"\n",
        "print(name)"
      ],
      "metadata": {
        "colab": {
          "base_uri": "https://localhost:8080/"
        },
        "id": "jG9DZC3SnHGg",
        "outputId": "5715d13a-ee21-44ea-f99a-a3ef7118b4fa"
      },
      "execution_count": null,
      "outputs": [
        {
          "output_type": "stream",
          "name": "stdout",
          "text": [
            "ankit\n"
          ]
        }
      ]
    },
    {
      "cell_type": "code",
      "source": [
        "print(\"1 + 2 =\", 1+2)\n",
        "print(\"3 - 2 =\", 3-2)\n",
        "print(\"4 * 2 =\", 4*2)\n",
        "print(\"5 / 2 =\", 5/2)\n",
        "print(\"6 % 2 =\", 6%2)\n",
        "print(\"7 ** 2 =\", 7**2)\n",
        "print(\"8 // 2 =\", 8//2)"
      ],
      "metadata": {
        "colab": {
          "base_uri": "https://localhost:8080/"
        },
        "id": "braQ5xhHnPEP",
        "outputId": "ed361150-c394-48c4-cdf4-7a8cb85f721e"
      },
      "execution_count": null,
      "outputs": [
        {
          "output_type": "stream",
          "name": "stdout",
          "text": [
            "1 + 2 = 3\n",
            "3 - 2 = 1\n",
            "4 * 2 = 8\n",
            "5 / 2 = 2.5\n",
            "6 % 2 = 0\n",
            "7 ** 2 = 49\n",
            "8 // 2 = 4\n"
          ]
        }
      ]
    },
    {
      "cell_type": "code",
      "source": [
        "quote = \"\\\"Always speak the truth\\\"\"\n",
        "print(quote)"
      ],
      "metadata": {
        "colab": {
          "base_uri": "https://localhost:8080/"
        },
        "id": "NZFQJpKXncSN",
        "outputId": "ec0cc9ad-79ad-4127-a352-41ebe113eb5f"
      },
      "execution_count": null,
      "outputs": [
        {
          "output_type": "stream",
          "name": "stdout",
          "text": [
            "\"Always speak the truth\"\n"
          ]
        }
      ]
    },
    {
      "cell_type": "code",
      "source": [
        "print(\"I don't like \", end =\"\")\n",
        "print(\"newlines\")"
      ],
      "metadata": {
        "colab": {
          "base_uri": "https://localhost:8080/"
        },
        "id": "n7kCGlMln9nB",
        "outputId": "8522650f-bc23-4dfe-e9ce-abb7907a3d3a"
      },
      "execution_count": null,
      "outputs": [
        {
          "output_type": "stream",
          "name": "stdout",
          "text": [
            "I don't like newlines\n"
          ]
        }
      ]
    },
    {
      "cell_type": "code",
      "source": [
        "FruitList = ['apple', 'mango', 'grapes', 'guava']\n",
        "print(FruitList[1])"
      ],
      "metadata": {
        "colab": {
          "base_uri": "https://localhost:8080/"
        },
        "id": "8Cx-d90GoSS0",
        "outputId": "c92cc9cd-447e-43e3-bfd4-46e162034d5d"
      },
      "execution_count": null,
      "outputs": [
        {
          "output_type": "stream",
          "name": "stdout",
          "text": [
            "mango\n"
          ]
        }
      ]
    },
    {
      "cell_type": "code",
      "source": [
        "FruitList[0] = 'pears'\n",
        "print(FruitList)"
      ],
      "metadata": {
        "colab": {
          "base_uri": "https://localhost:8080/"
        },
        "id": "MWB2TUwkouQn",
        "outputId": "441e1fcb-0d83-468b-c2aa-6fc77a759e4f"
      },
      "execution_count": null,
      "outputs": [
        {
          "output_type": "stream",
          "name": "stdout",
          "text": [
            "['pears', 'mango', 'grapes', 'guava']\n"
          ]
        }
      ]
    },
    {
      "cell_type": "code",
      "source": [
        "otherItems = ['car', 'bus', 'bike']\n",
        "newItems = [otherItems, FruitList]\n",
        "print(newItems)"
      ],
      "metadata": {
        "colab": {
          "base_uri": "https://localhost:8080/"
        },
        "id": "3p14OBBEo8fH",
        "outputId": "25086c97-b0d0-472c-fcad-8fb464ee5fc5"
      },
      "execution_count": null,
      "outputs": [
        {
          "output_type": "stream",
          "name": "stdout",
          "text": [
            "[['car', 'bus', 'bike'], ['pears', 'mango', 'grapes', 'guava']]\n"
          ]
        }
      ]
    },
    {
      "cell_type": "code",
      "source": [
        "newItems[1][2]"
      ],
      "metadata": {
        "colab": {
          "base_uri": "https://localhost:8080/",
          "height": 35
        },
        "id": "CDutP9SPpfpc",
        "outputId": "58d22c8a-0785-444b-be9d-704dca833892"
      },
      "execution_count": null,
      "outputs": [
        {
          "output_type": "execute_result",
          "data": {
            "text/plain": [
              "'grapes'"
            ],
            "application/vnd.google.colaboratory.intrinsic+json": {
              "type": "string"
            }
          },
          "metadata": {},
          "execution_count": 19
        }
      ]
    },
    {
      "cell_type": "code",
      "source": [
        "FruitList.append('banana')\n",
        "print(newItems)"
      ],
      "metadata": {
        "colab": {
          "base_uri": "https://localhost:8080/"
        },
        "id": "FKdR4RkApyFZ",
        "outputId": "4c9b08d2-e2dd-4039-f61e-54a244dda777"
      },
      "execution_count": null,
      "outputs": [
        {
          "output_type": "stream",
          "name": "stdout",
          "text": [
            "[['car', 'bus', 'bike'], ['pears', 'mango', 'grapes', 'guava', 'banana', 'banana', 'banana']]\n"
          ]
        }
      ]
    },
    {
      "cell_type": "code",
      "source": [
        "FruitList.remove('banana')"
      ],
      "metadata": {
        "id": "TeEUlRp6p_WB"
      },
      "execution_count": null,
      "outputs": []
    },
    {
      "cell_type": "code",
      "source": [
        "print(newItems)"
      ],
      "metadata": {
        "colab": {
          "base_uri": "https://localhost:8080/"
        },
        "id": "yY7kQtjiqQuZ",
        "outputId": "f10d79a5-0d26-46cb-f528-01c6343740ed"
      },
      "execution_count": null,
      "outputs": [
        {
          "output_type": "stream",
          "name": "stdout",
          "text": [
            "[['car', 'bus', 'bike'], ['pears', 'mango', 'grapes', 'guava', 'banana']]\n"
          ]
        }
      ]
    },
    {
      "cell_type": "code",
      "source": [
        "sorted(FruitList)"
      ],
      "metadata": {
        "colab": {
          "base_uri": "https://localhost:8080/"
        },
        "id": "lEa1M73mqSgn",
        "outputId": "04c924bf-7ec1-4203-d0b0-1526c1256830"
      },
      "execution_count": null,
      "outputs": [
        {
          "output_type": "execute_result",
          "data": {
            "text/plain": [
              "['banana', 'grapes', 'guava', 'mango', 'pears']"
            ]
          },
          "metadata": {},
          "execution_count": 27
        }
      ]
    },
    {
      "cell_type": "code",
      "source": [
        "del FruitList[0]"
      ],
      "metadata": {
        "id": "tjydejWTqkVE"
      },
      "execution_count": null,
      "outputs": []
    },
    {
      "cell_type": "code",
      "source": [
        "print(FruitList)"
      ],
      "metadata": {
        "colab": {
          "base_uri": "https://localhost:8080/"
        },
        "id": "ofmEZypRqv4l",
        "outputId": "cb6399b2-2a90-4ee7-c6de-dcd6abd2a5ec"
      },
      "execution_count": null,
      "outputs": [
        {
          "output_type": "stream",
          "name": "stdout",
          "text": [
            "['mango', 'grapes', 'guava', 'banana']\n"
          ]
        }
      ]
    },
    {
      "cell_type": "code",
      "source": [
        "FruitList.sort()\n",
        "print(FruitList)"
      ],
      "metadata": {
        "colab": {
          "base_uri": "https://localhost:8080/"
        },
        "id": "J_G0aEl4qz1-",
        "outputId": "f35793a9-91a3-4e84-837d-a084696c6a79"
      },
      "execution_count": null,
      "outputs": [
        {
          "output_type": "stream",
          "name": "stdout",
          "text": [
            "['banana', 'grapes', 'guava', 'mango']\n"
          ]
        }
      ]
    },
    {
      "cell_type": "code",
      "source": [
        "print(len(FruitList))"
      ],
      "metadata": {
        "colab": {
          "base_uri": "https://localhost:8080/"
        },
        "id": "_9MaN9iYsXW2",
        "outputId": "80c81c2c-21aa-41fb-d3ae-e22ed9454dee"
      },
      "execution_count": null,
      "outputs": [
        {
          "output_type": "stream",
          "name": "stdout",
          "text": [
            "4\n"
          ]
        }
      ]
    },
    {
      "cell_type": "code",
      "source": [
        "print(max(FruitList))"
      ],
      "metadata": {
        "colab": {
          "base_uri": "https://localhost:8080/"
        },
        "id": "O4z1Kdu-sqZ9",
        "outputId": "3750373c-8b9d-4f33-9f8d-956d5fbcd12d"
      },
      "execution_count": null,
      "outputs": [
        {
          "output_type": "stream",
          "name": "stdout",
          "text": [
            "mango\n"
          ]
        }
      ]
    },
    {
      "cell_type": "code",
      "source": [
        "print(min(FruitList))"
      ],
      "metadata": {
        "colab": {
          "base_uri": "https://localhost:8080/"
        },
        "id": "mZcPBUQqsuPT",
        "outputId": "d7d6bb49-5381-4b29-ac21-33bc25c2fbc8"
      },
      "execution_count": null,
      "outputs": [
        {
          "output_type": "stream",
          "name": "stdout",
          "text": [
            "banana\n"
          ]
        }
      ]
    },
    {
      "cell_type": "code",
      "source": [
        "# TUPLES -------------\n",
        "# Values in a tuple can't change like lists\n",
        "\n",
        "tuples = (1, 2, 3, 4, 5, 6)\n",
        "\n",
        "# Convert tuple into a list\n",
        "new_tuple = list(tuples)\n",
        "print(new_tuple)"
      ],
      "metadata": {
        "colab": {
          "base_uri": "https://localhost:8080/"
        },
        "id": "qCFewpkBswrq",
        "outputId": "98b78351-eeb7-485f-ee92-a7518d5d0824"
      },
      "execution_count": null,
      "outputs": [
        {
          "output_type": "stream",
          "name": "stdout",
          "text": [
            "[1, 2, 3, 4, 5, 6]\n"
          ]
        }
      ]
    },
    {
      "cell_type": "code",
      "source": [
        "DictList = {'black' : 1234, 'blue' : 234, 'red' : 3343, 'green' : 400, 'yellow' : 45}\n",
        "print(DictList['blue'])\n",
        "\n",
        "\n"
      ],
      "metadata": {
        "colab": {
          "base_uri": "https://localhost:8080/"
        },
        "id": "k_8NTMGvtAX2",
        "outputId": "6eff9b4d-2f5d-4025-c11f-9ab58b682fc8"
      },
      "execution_count": null,
      "outputs": [
        {
          "output_type": "stream",
          "name": "stdout",
          "text": [
            "234\n"
          ]
        }
      ]
    },
    {
      "cell_type": "code",
      "source": [
        "del DictList['black']\n",
        "print(DictList)"
      ],
      "metadata": {
        "colab": {
          "base_uri": "https://localhost:8080/"
        },
        "id": "1iNxUOQJtQKF",
        "outputId": "cfa6b446-2b8b-43b3-8e87-ddeccfc9ca7f"
      },
      "execution_count": null,
      "outputs": [
        {
          "output_type": "stream",
          "name": "stdout",
          "text": [
            "{'blue': 234, 'red': 3343, 'green': 400, 'yellow': 45}\n"
          ]
        }
      ]
    },
    {
      "cell_type": "code",
      "source": [
        "print(DictList.keys())"
      ],
      "metadata": {
        "colab": {
          "base_uri": "https://localhost:8080/"
        },
        "id": "tgVN1ObPuKxF",
        "outputId": "c0249076-2d20-4bce-9512-3ecac4363756"
      },
      "execution_count": null,
      "outputs": [
        {
          "output_type": "stream",
          "name": "stdout",
          "text": [
            "dict_keys(['blue', 'red', 'green', 'yellow'])\n"
          ]
        }
      ]
    },
    {
      "cell_type": "code",
      "source": [
        "print(DictList.values())"
      ],
      "metadata": {
        "colab": {
          "base_uri": "https://localhost:8080/"
        },
        "id": "XTdVRIkiuWS_",
        "outputId": "6eb00872-0bdc-49e6-d229-9a074381ad94"
      },
      "execution_count": null,
      "outputs": [
        {
          "output_type": "stream",
          "name": "stdout",
          "text": [
            "dict_values([234, 3343, 400, 45])\n"
          ]
        }
      ]
    },
    {
      "cell_type": "code",
      "source": [
        "print(len(DictList))"
      ],
      "metadata": {
        "colab": {
          "base_uri": "https://localhost:8080/"
        },
        "id": "SYpNueOwuaW1",
        "outputId": "131d5493-d449-4c28-b7dd-4735e9f7ee88"
      },
      "execution_count": null,
      "outputs": [
        {
          "output_type": "stream",
          "name": "stdout",
          "text": [
            "4\n"
          ]
        }
      ]
    },
    {
      "cell_type": "code",
      "source": [
        "number = 30\n",
        "if number > 0 :\n",
        "    print('Positive number')\n",
        "elif number < 0 :\n",
        "    print('Negative number')\n",
        "else:\n",
        "    print('Zero')\n",
        "\n",
        "\n",
        "\n",
        "if number // 2 == 0:\n",
        "    print('Even number')\n",
        "else:\n",
        "    print('Odd number')\n",
        "\n",
        "\n",
        "\n",
        "if ((number >= 1) and (number <= 18)):\n",
        "    print(\"You get a birthday party\")\n",
        "elif (number == 21) or (number >= 65):\n",
        "    print(\"You get a birthday party\")\n",
        "elif not(number == 30):\n",
        "    print(\"You don't get a birthday party\")\n",
        "else:\n",
        "    print(\"You get a birthday party yeah\")\n"
      ],
      "metadata": {
        "colab": {
          "base_uri": "https://localhost:8080/"
        },
        "id": "dyx7a0Fzudji",
        "outputId": "2f69db96-ff1a-4db5-9d5e-7feb91639979"
      },
      "execution_count": null,
      "outputs": [
        {
          "output_type": "stream",
          "name": "stdout",
          "text": [
            "Positive number\n",
            "Odd number\n",
            "You get a birthday party yeah\n"
          ]
        }
      ]
    },
    {
      "cell_type": "code",
      "source": [
        "\n",
        "# Looping through a list\n",
        "for fruit in FruitList:\n",
        "  print(fruit)\n",
        "\n",
        "# Looping through a list with index\n",
        "for i in range(len(FruitList)):\n",
        "  print(FruitList[i])\n",
        "\n",
        "# Looping through a dictionary\n",
        "for key, value in DictList.items():\n",
        "  print(key, value)\n",
        "\n",
        "# Looping through a list of numbers\n",
        "for i in range(1, 10):\n",
        "  print(i)\n"
      ],
      "metadata": {
        "colab": {
          "base_uri": "https://localhost:8080/"
        },
        "id": "T_3PajkqvQE8",
        "outputId": "cf60d3f6-9bf5-4ff0-d71a-8f4156fa148c"
      },
      "execution_count": null,
      "outputs": [
        {
          "output_type": "stream",
          "name": "stdout",
          "text": [
            "banana\n",
            "grapes\n",
            "guava\n",
            "mango\n",
            "banana\n",
            "grapes\n",
            "guava\n",
            "mango\n",
            "blue 234\n",
            "red 3343\n",
            "green 400\n",
            "yellow 45\n",
            "1\n",
            "2\n",
            "3\n",
            "4\n",
            "5\n",
            "6\n",
            "7\n",
            "8\n",
            "9\n"
          ]
        }
      ]
    },
    {
      "cell_type": "code",
      "source": [
        "\n",
        "# Example of while loop with a counter\n",
        "count = 0\n",
        "while count < 5:\n",
        "  print(count)\n",
        "  count += 1\n",
        "\n",
        "#  User input validation\n",
        "user_input = \"\"\n",
        "while user_input != \"quit\":\n",
        "  user_input = input(\"Enter a command (or 'quit' to exit): \")\n",
        "  if user_input == \"hello\":\n",
        "    print(\"Hello there!\")\n",
        "  elif user_input == \"goodbye\":\n",
        "    print(\"Goodbye!\")\n",
        "  else:\n",
        "    print(\"Invalid command.\")\n",
        "\n",
        "# Game loop\n",
        "import random\n",
        "\n",
        "number = random.randint(1, 10)\n",
        "guess = 0\n",
        "while guess != number:\n",
        "  guess = int(input(\"Guess a number between 1 and 10: \"))\n",
        "  if guess < number:\n",
        "    print(\"Too low!\")\n",
        "  elif guess > number:\n",
        "    print(\"Too high!\")\n",
        "  else:\n",
        "    print(\"You guessed it!\")\n"
      ],
      "metadata": {
        "colab": {
          "base_uri": "https://localhost:8080/"
        },
        "id": "lexgooSzvi77",
        "outputId": "04698fd2-147d-4e63-a5ce-beace72169ea"
      },
      "execution_count": null,
      "outputs": [
        {
          "output_type": "stream",
          "name": "stdout",
          "text": [
            "0\n",
            "1\n",
            "2\n",
            "3\n",
            "4\n",
            "Enter a command (or 'quit' to exit): quit\n",
            "Invalid command.\n",
            "Guess a number between 1 and 10: 7\n",
            "Too low!\n",
            "Guess a number between 1 and 10: 9\n",
            "Too low!\n",
            "Guess a number between 1 and 10: 10\n",
            "You guessed it!\n"
          ]
        }
      ]
    },
    {
      "cell_type": "code",
      "source": [
        "def Sum(fNum, sNum):\n",
        "    sumNum = fNum + sNum\n",
        "    return sumNum\n",
        "\n",
        "print(Sum(31, 34))\n",
        "\n",
        "\n",
        "\n",
        "def Sub(fNum, sNum):\n",
        "    newNum = fNum - sNum\n",
        "    return newNum\n",
        "\n",
        "print(Sub(1, 4))"
      ],
      "metadata": {
        "colab": {
          "base_uri": "https://localhost:8080/"
        },
        "id": "lopxGezVwrTy",
        "outputId": "113238af-4577-439f-fdc4-f0d304583732"
      },
      "execution_count": null,
      "outputs": [
        {
          "output_type": "stream",
          "name": "stdout",
          "text": [
            "65\n",
            "-3\n"
          ]
        }
      ]
    },
    {
      "cell_type": "code",
      "source": [
        "print('what is your name')"
      ],
      "metadata": {
        "colab": {
          "base_uri": "https://localhost:8080/"
        },
        "id": "I0i5f9dxxJ7j",
        "outputId": "86833c9a-fdfb-4e8c-9259-824cdcc3ea5d"
      },
      "execution_count": null,
      "outputs": [
        {
          "output_type": "stream",
          "name": "stdout",
          "text": [
            "what is your name\n"
          ]
        }
      ]
    },
    {
      "cell_type": "code",
      "source": [
        "name = input(\"what is your name\")"
      ],
      "metadata": {
        "colab": {
          "base_uri": "https://localhost:8080/"
        },
        "id": "QfxlseF-xTwJ",
        "outputId": "f150364b-c45a-441b-ea43-004708d38ec9"
      },
      "execution_count": null,
      "outputs": [
        {
          "name": "stdout",
          "output_type": "stream",
          "text": [
            "what is your nameankit\n"
          ]
        }
      ]
    },
    {
      "cell_type": "code",
      "source": [
        "name\n"
      ],
      "metadata": {
        "colab": {
          "base_uri": "https://localhost:8080/",
          "height": 35
        },
        "id": "6BANc9qrxZ8-",
        "outputId": "f5fe63b8-4ef0-49a6-92fa-78e7c9022ae6"
      },
      "execution_count": null,
      "outputs": [
        {
          "output_type": "execute_result",
          "data": {
            "text/plain": [
              "'ankit'"
            ],
            "application/vnd.google.colaboratory.intrinsic+json": {
              "type": "string"
            }
          },
          "metadata": {},
          "execution_count": 54
        }
      ]
    },
    {
      "cell_type": "code",
      "source": [
        "stringname = 'my name is ankit and i am a data scientist'"
      ],
      "metadata": {
        "id": "Xl-gddsNxhru"
      },
      "execution_count": null,
      "outputs": []
    },
    {
      "cell_type": "code",
      "source": [
        "stringname[0:4]"
      ],
      "metadata": {
        "colab": {
          "base_uri": "https://localhost:8080/",
          "height": 35
        },
        "id": "g1_otyQIyOEX",
        "outputId": "3874c79d-dc75-4681-8aef-fe601a1c4390"
      },
      "execution_count": null,
      "outputs": [
        {
          "output_type": "execute_result",
          "data": {
            "text/plain": [
              "'my n'"
            ],
            "application/vnd.google.colaboratory.intrinsic+json": {
              "type": "string"
            }
          },
          "metadata": {},
          "execution_count": 60
        }
      ]
    },
    {
      "cell_type": "code",
      "source": [
        "stringname[-5:-1]"
      ],
      "metadata": {
        "colab": {
          "base_uri": "https://localhost:8080/",
          "height": 35
        },
        "id": "O4aoNqR4yRJU",
        "outputId": "1019c52f-c425-464e-e6c7-d156366ca2de"
      },
      "execution_count": null,
      "outputs": [
        {
          "output_type": "execute_result",
          "data": {
            "text/plain": [
              "'ntis'"
            ],
            "application/vnd.google.colaboratory.intrinsic+json": {
              "type": "string"
            }
          },
          "metadata": {},
          "execution_count": 66
        }
      ]
    },
    {
      "cell_type": "code",
      "source": [
        "print(stringname.capitalize())"
      ],
      "metadata": {
        "colab": {
          "base_uri": "https://localhost:8080/"
        },
        "id": "xyYT1QS3yYDQ",
        "outputId": "ba3ea7a4-badb-4264-90b2-ccd58c440e74"
      },
      "execution_count": null,
      "outputs": [
        {
          "output_type": "stream",
          "name": "stdout",
          "text": [
            "My name is ankit and i am a data scientist\n"
          ]
        }
      ]
    },
    {
      "cell_type": "code",
      "source": [
        "print(stringname.isalpha())\n",
        "num = '12345'\n",
        "print(num.isalnum())"
      ],
      "metadata": {
        "colab": {
          "base_uri": "https://localhost:8080/"
        },
        "id": "_6t7GRbvy0cy",
        "outputId": "029b4af9-3039-4ce5-ee54-3d24a807d616"
      },
      "execution_count": null,
      "outputs": [
        {
          "output_type": "stream",
          "name": "stdout",
          "text": [
            "False\n",
            "True\n"
          ]
        }
      ]
    },
    {
      "cell_type": "code",
      "source": [
        "test_file = open(\"test.txt\", \"wb\")\n",
        "# Get the file mode used\n",
        "print(test_file.mode)\n",
        "\n",
        "# Get the files name\n",
        "print(test_file.name)\n",
        "\n",
        "# Write text to a file with a newline\n",
        "test_file.write(bytes(\"Write me to the file\\n\", 'UTF-8'))\n",
        "\n",
        "# Close the file\n",
        "test_file.close()\n",
        "\n",
        "# Opens a file for reading and writing\n",
        "test_file = open(\"test.txt\", \"r+\")\n",
        "\n",
        "# Read text from the file\n",
        "text_in_file = test_file.read()\n",
        "\n",
        "print(text_in_file)\n",
        "\n",
        "# Delete the file\n",
        "os.remove(\"test.txt\")"
      ],
      "metadata": {
        "colab": {
          "base_uri": "https://localhost:8080/"
        },
        "id": "6S13UT5lzV4X",
        "outputId": "2730db7e-c53b-4f1f-84f8-5d84bf7f31d2"
      },
      "execution_count": null,
      "outputs": [
        {
          "output_type": "stream",
          "name": "stdout",
          "text": [
            "wb\n",
            "test.txt\n",
            "Write me to the file\n",
            "\n"
          ]
        }
      ]
    },
    {
      "cell_type": "code",
      "source": [
        "# prompt: how to read file from my pc\n",
        "\n",
        "from google.colab import files\n",
        "\n",
        "uploaded = files.upload()\n",
        "\n",
        "for fn in uploaded.keys():\n",
        "  print('User uploaded file \"{name}\" with length {length} bytes'.format(\n",
        "      name=fn, length=len(uploaded[fn])))\n"
      ],
      "metadata": {
        "colab": {
          "base_uri": "https://localhost:8080/",
          "height": 92
        },
        "id": "FMCsX2Y41N6a",
        "outputId": "bf1ea584-69b1-475c-b7c6-f514186f345b"
      },
      "execution_count": null,
      "outputs": [
        {
          "output_type": "display_data",
          "data": {
            "text/plain": [
              "<IPython.core.display.HTML object>"
            ],
            "text/html": [
              "\n",
              "     <input type=\"file\" id=\"files-6831bbba-4e67-4fa5-9907-62efa597a1dd\" name=\"files[]\" multiple disabled\n",
              "        style=\"border:none\" />\n",
              "     <output id=\"result-6831bbba-4e67-4fa5-9907-62efa597a1dd\">\n",
              "      Upload widget is only available when the cell has been executed in the\n",
              "      current browser session. Please rerun this cell to enable.\n",
              "      </output>\n",
              "      <script>// Copyright 2017 Google LLC\n",
              "//\n",
              "// Licensed under the Apache License, Version 2.0 (the \"License\");\n",
              "// you may not use this file except in compliance with the License.\n",
              "// You may obtain a copy of the License at\n",
              "//\n",
              "//      http://www.apache.org/licenses/LICENSE-2.0\n",
              "//\n",
              "// Unless required by applicable law or agreed to in writing, software\n",
              "// distributed under the License is distributed on an \"AS IS\" BASIS,\n",
              "// WITHOUT WARRANTIES OR CONDITIONS OF ANY KIND, either express or implied.\n",
              "// See the License for the specific language governing permissions and\n",
              "// limitations under the License.\n",
              "\n",
              "/**\n",
              " * @fileoverview Helpers for google.colab Python module.\n",
              " */\n",
              "(function(scope) {\n",
              "function span(text, styleAttributes = {}) {\n",
              "  const element = document.createElement('span');\n",
              "  element.textContent = text;\n",
              "  for (const key of Object.keys(styleAttributes)) {\n",
              "    element.style[key] = styleAttributes[key];\n",
              "  }\n",
              "  return element;\n",
              "}\n",
              "\n",
              "// Max number of bytes which will be uploaded at a time.\n",
              "const MAX_PAYLOAD_SIZE = 100 * 1024;\n",
              "\n",
              "function _uploadFiles(inputId, outputId) {\n",
              "  const steps = uploadFilesStep(inputId, outputId);\n",
              "  const outputElement = document.getElementById(outputId);\n",
              "  // Cache steps on the outputElement to make it available for the next call\n",
              "  // to uploadFilesContinue from Python.\n",
              "  outputElement.steps = steps;\n",
              "\n",
              "  return _uploadFilesContinue(outputId);\n",
              "}\n",
              "\n",
              "// This is roughly an async generator (not supported in the browser yet),\n",
              "// where there are multiple asynchronous steps and the Python side is going\n",
              "// to poll for completion of each step.\n",
              "// This uses a Promise to block the python side on completion of each step,\n",
              "// then passes the result of the previous step as the input to the next step.\n",
              "function _uploadFilesContinue(outputId) {\n",
              "  const outputElement = document.getElementById(outputId);\n",
              "  const steps = outputElement.steps;\n",
              "\n",
              "  const next = steps.next(outputElement.lastPromiseValue);\n",
              "  return Promise.resolve(next.value.promise).then((value) => {\n",
              "    // Cache the last promise value to make it available to the next\n",
              "    // step of the generator.\n",
              "    outputElement.lastPromiseValue = value;\n",
              "    return next.value.response;\n",
              "  });\n",
              "}\n",
              "\n",
              "/**\n",
              " * Generator function which is called between each async step of the upload\n",
              " * process.\n",
              " * @param {string} inputId Element ID of the input file picker element.\n",
              " * @param {string} outputId Element ID of the output display.\n",
              " * @return {!Iterable<!Object>} Iterable of next steps.\n",
              " */\n",
              "function* uploadFilesStep(inputId, outputId) {\n",
              "  const inputElement = document.getElementById(inputId);\n",
              "  inputElement.disabled = false;\n",
              "\n",
              "  const outputElement = document.getElementById(outputId);\n",
              "  outputElement.innerHTML = '';\n",
              "\n",
              "  const pickedPromise = new Promise((resolve) => {\n",
              "    inputElement.addEventListener('change', (e) => {\n",
              "      resolve(e.target.files);\n",
              "    });\n",
              "  });\n",
              "\n",
              "  const cancel = document.createElement('button');\n",
              "  inputElement.parentElement.appendChild(cancel);\n",
              "  cancel.textContent = 'Cancel upload';\n",
              "  const cancelPromise = new Promise((resolve) => {\n",
              "    cancel.onclick = () => {\n",
              "      resolve(null);\n",
              "    };\n",
              "  });\n",
              "\n",
              "  // Wait for the user to pick the files.\n",
              "  const files = yield {\n",
              "    promise: Promise.race([pickedPromise, cancelPromise]),\n",
              "    response: {\n",
              "      action: 'starting',\n",
              "    }\n",
              "  };\n",
              "\n",
              "  cancel.remove();\n",
              "\n",
              "  // Disable the input element since further picks are not allowed.\n",
              "  inputElement.disabled = true;\n",
              "\n",
              "  if (!files) {\n",
              "    return {\n",
              "      response: {\n",
              "        action: 'complete',\n",
              "      }\n",
              "    };\n",
              "  }\n",
              "\n",
              "  for (const file of files) {\n",
              "    const li = document.createElement('li');\n",
              "    li.append(span(file.name, {fontWeight: 'bold'}));\n",
              "    li.append(span(\n",
              "        `(${file.type || 'n/a'}) - ${file.size} bytes, ` +\n",
              "        `last modified: ${\n",
              "            file.lastModifiedDate ? file.lastModifiedDate.toLocaleDateString() :\n",
              "                                    'n/a'} - `));\n",
              "    const percent = span('0% done');\n",
              "    li.appendChild(percent);\n",
              "\n",
              "    outputElement.appendChild(li);\n",
              "\n",
              "    const fileDataPromise = new Promise((resolve) => {\n",
              "      const reader = new FileReader();\n",
              "      reader.onload = (e) => {\n",
              "        resolve(e.target.result);\n",
              "      };\n",
              "      reader.readAsArrayBuffer(file);\n",
              "    });\n",
              "    // Wait for the data to be ready.\n",
              "    let fileData = yield {\n",
              "      promise: fileDataPromise,\n",
              "      response: {\n",
              "        action: 'continue',\n",
              "      }\n",
              "    };\n",
              "\n",
              "    // Use a chunked sending to avoid message size limits. See b/62115660.\n",
              "    let position = 0;\n",
              "    do {\n",
              "      const length = Math.min(fileData.byteLength - position, MAX_PAYLOAD_SIZE);\n",
              "      const chunk = new Uint8Array(fileData, position, length);\n",
              "      position += length;\n",
              "\n",
              "      const base64 = btoa(String.fromCharCode.apply(null, chunk));\n",
              "      yield {\n",
              "        response: {\n",
              "          action: 'append',\n",
              "          file: file.name,\n",
              "          data: base64,\n",
              "        },\n",
              "      };\n",
              "\n",
              "      let percentDone = fileData.byteLength === 0 ?\n",
              "          100 :\n",
              "          Math.round((position / fileData.byteLength) * 100);\n",
              "      percent.textContent = `${percentDone}% done`;\n",
              "\n",
              "    } while (position < fileData.byteLength);\n",
              "  }\n",
              "\n",
              "  // All done.\n",
              "  yield {\n",
              "    response: {\n",
              "      action: 'complete',\n",
              "    }\n",
              "  };\n",
              "}\n",
              "\n",
              "scope.google = scope.google || {};\n",
              "scope.google.colab = scope.google.colab || {};\n",
              "scope.google.colab._files = {\n",
              "  _uploadFiles,\n",
              "  _uploadFilesContinue,\n",
              "};\n",
              "})(self);\n",
              "</script> "
            ]
          },
          "metadata": {}
        },
        {
          "output_type": "stream",
          "name": "stdout",
          "text": [
            "Saving text.rtf to text.rtf\n",
            "User uploaded file \"text.rtf\" with length 431 bytes\n"
          ]
        }
      ]
    },
    {
      "cell_type": "code",
      "source": [
        "# prompt: with open('test.txt', 'r') as file:\n",
        "# this giving error\n",
        "\n",
        "try:\n",
        "  with open('test.txt', 'r') as file:\n",
        "    # Your code to read the file goes here\n",
        "    for line in file:\n",
        "      print(line.strip())\n",
        "except FileNotFoundError:\n",
        "  print(\"File not found!\")\n"
      ],
      "metadata": {
        "colab": {
          "base_uri": "https://localhost:8080/"
        },
        "id": "FVFR45Dx2BCO",
        "outputId": "ea501aeb-0c16-4d25-ca94-aa9009482053"
      },
      "execution_count": null,
      "outputs": [
        {
          "output_type": "stream",
          "name": "stdout",
          "text": [
            "File not found!\n"
          ]
        }
      ]
    },
    {
      "cell_type": "code",
      "source": [
        "\n",
        "class Car:\n",
        "    # Class attributes\n",
        "    wheels = 4\n",
        "\n",
        "    # Constructor\n",
        "    def __init__(self, make, model, year):\n",
        "        self.make = make\n",
        "        self.model = model\n",
        "        self.year = year\n",
        "        self.is_running = False\n",
        "\n",
        "    # Method to start the car\n",
        "    def start(self):\n",
        "        self.is_running = True\n",
        "        print(f\"The {self.make} {self.model} is now running.\")\n",
        "\n",
        "    # Method to stop the car\n",
        "    def stop(self):\n",
        "        self.is_running = False\n",
        "        print(f\"The {self.make} {self.model} has stopped.\")\n",
        "\n",
        "# Create an instance of the Car class\n",
        "my_car = Car(\"Toyota\", \"Camry\", 2023)\n",
        "\n",
        "# Accessing attributes\n",
        "print(my_car.make)\n",
        "print(my_car.model)\n",
        "print(my_car.year)\n",
        "\n",
        "# Calling methods\n",
        "my_car.start()\n",
        "my_car.stop()\n"
      ],
      "metadata": {
        "colab": {
          "base_uri": "https://localhost:8080/"
        },
        "id": "7Sw7W9B92zS6",
        "outputId": "c95e9ac6-c293-42d6-bbad-5ead7651f1fb"
      },
      "execution_count": null,
      "outputs": [
        {
          "output_type": "stream",
          "name": "stdout",
          "text": [
            "Toyota\n",
            "Camry\n",
            "2023\n",
            "The Toyota Camry is now running.\n",
            "The Toyota Camry has stopped.\n"
          ]
        }
      ]
    },
    {
      "cell_type": "markdown",
      "source": [
        "# Features of Advanced Colab\n",
        "\n"
      ],
      "metadata": {
        "id": "KGG--NowZBDl"
      }
    },
    {
      "cell_type": "code",
      "source": [
        "# Wget to download\n",
        "!Wget https://www.learningcontainer.com/wp-content/uploads/2020/05/sample-large-zip-file.zip"
      ],
      "metadata": {
        "id": "5dHZprNZZijw",
        "colab": {
          "base_uri": "https://localhost:8080/"
        },
        "outputId": "487cf04c-3045-47f7-bcee-31a5e88ab1f7"
      },
      "execution_count": null,
      "outputs": [
        {
          "output_type": "stream",
          "name": "stdout",
          "text": [
            "/bin/bash: line 1: Wget: command not found\n"
          ]
        }
      ]
    },
    {
      "cell_type": "code",
      "source": [
        "# prompt: correct just Wget code\n",
        "\n",
        "!wget -O sample-large-zip-file.zip https://www.learningcontainer.com/wp-content/uploads/2020/05/sample-large-zip-file.zip\n"
      ],
      "metadata": {
        "colab": {
          "base_uri": "https://localhost:8080/"
        },
        "id": "x4u049RNsJ4_",
        "outputId": "da9b40af-9ab1-4961-eacb-532cc6c7c0f6"
      },
      "execution_count": null,
      "outputs": [
        {
          "output_type": "stream",
          "name": "stdout",
          "text": [
            "--2024-09-08 22:13:56--  https://www.learningcontainer.com/wp-content/uploads/2020/05/sample-large-zip-file.zip\n",
            "Resolving www.learningcontainer.com (www.learningcontainer.com)... 104.21.84.74, 172.67.188.164, 2606:4700:3033::ac43:bca4, ...\n",
            "Connecting to www.learningcontainer.com (www.learningcontainer.com)|104.21.84.74|:443... connected.\n",
            "HTTP request sent, awaiting response... 200 OK\n",
            "Length: 5216156 (5.0M) [application/zip]\n",
            "Saving to: ‘sample-large-zip-file.zip’\n",
            "\n",
            "sample-large-zip-fi 100%[===================>]   4.97M  4.73MB/s    in 1.1s    \n",
            "\n",
            "2024-09-08 22:13:58 (4.73 MB/s) - ‘sample-large-zip-file.zip’ saved [5216156/5216156]\n",
            "\n"
          ]
        }
      ]
    },
    {
      "cell_type": "code",
      "source": [
        "# And unzip into current directory\n",
        "!unzip -j LOSC_Event_tutorial.zip LOSC_Event_tutorial/*.*"
      ],
      "metadata": {
        "id": "4v2ECklEs2el"
      },
      "execution_count": null,
      "outputs": []
    },
    {
      "cell_type": "code",
      "source": [
        "# prompt: unzip just above file and And unzip into current directory\n",
        "\n",
        "!unzip -j sample-large-zip-file.zip\n"
      ],
      "metadata": {
        "colab": {
          "base_uri": "https://localhost:8080/"
        },
        "id": "-4-7pVmPt_S-",
        "outputId": "7b8d0c0a-a7fd-44a5-e308-96ed60584c52"
      },
      "execution_count": null,
      "outputs": [
        {
          "output_type": "stream",
          "name": "stdout",
          "text": [
            "Archive:  sample-large-zip-file.zip\n",
            "  inflating: sample-mpg-file.mpg     \n"
          ]
        }
      ]
    },
    {
      "cell_type": "code",
      "source": [
        "# connect to google drive with mount\n",
        "from google.colab import drive\n",
        "drive.mount('mount')"
      ],
      "metadata": {
        "id": "3_jSkny1uJpq",
        "colab": {
          "base_uri": "https://localhost:8080/"
        },
        "outputId": "86277e2c-fc76-4dc2-bf4b-58214462a1ca"
      },
      "execution_count": null,
      "outputs": [
        {
          "output_type": "stream",
          "name": "stdout",
          "text": [
            "Mounted at mount\n"
          ]
        }
      ]
    },
    {
      "cell_type": "code",
      "source": [
        "# copy a file there to here\n",
        "!cp mount/My\\ Drive/kaggle.json  ."
      ],
      "metadata": {
        "id": "HEosLZE-wc7Q"
      },
      "execution_count": null,
      "outputs": []
    },
    {
      "cell_type": "code",
      "source": [
        "# download a public file\n",
        "!gdown  --id  0B7EVK8r0v71pZjFTYXZWM3FlRnM"
      ],
      "metadata": {
        "colab": {
          "base_uri": "https://localhost:8080/"
        },
        "id": "8rkaDDz7yHrx",
        "outputId": "11e99e5d-ab72-4f20-8896-e5a8d1f2bced"
      },
      "execution_count": null,
      "outputs": [
        {
          "output_type": "stream",
          "name": "stdout",
          "text": [
            "/usr/local/lib/python3.10/dist-packages/gdown/__main__.py:132: FutureWarning: Option `--id` was deprecated in version 4.3.1 and will be removed in 5.0. You don't need to pass it anymore to use a file ID.\n",
            "  warnings.warn(\n",
            "Downloading...\n",
            "From (original): https://drive.google.com/uc?id=0B7EVK8r0v71pZjFTYXZWM3FlRnM\n",
            "From (redirected): https://drive.google.com/uc?id=0B7EVK8r0v71pZjFTYXZWM3FlRnM&confirm=t&uuid=a8ac0a10-24bc-429e-b3c6-a4a92c6c9835\n",
            "To: /content/img_align_celeba.zip\n",
            "100% 1.44G/1.44G [00:21<00:00, 68.0MB/s]\n"
          ]
        }
      ]
    },
    {
      "cell_type": "code",
      "source": [
        "!ls -al *.zip"
      ],
      "metadata": {
        "colab": {
          "base_uri": "https://localhost:8080/"
        },
        "id": "6zXXmWvCyZWB",
        "outputId": "0289eed5-9120-4016-808f-ab79537f44ce"
      },
      "execution_count": null,
      "outputs": [
        {
          "output_type": "stream",
          "name": "stdout",
          "text": [
            "-rw-r--r-- 1 root root          0 Sep  8 22:10 colab_sample_notebooks.zip\n",
            "-rw-r--r-- 1 root root          0 Sep  8 22:11 example.zip\n",
            "-rw-r--r-- 1 root root 1443490838 Sep  8 22:38 img_align_celeba.zip\n",
            "-rw-r--r-- 1 root root    5216156 Sep 12  2020 sample-large-zip-file.zip\n"
          ]
        }
      ]
    },
    {
      "cell_type": "code",
      "source": [
        "# authenticate (another one)\n",
        "from google.colab import auth\n",
        "auth.authenticate_user()"
      ],
      "metadata": {
        "id": "9rtPNFWGymZa"
      },
      "execution_count": null,
      "outputs": []
    },
    {
      "cell_type": "code",
      "source": [
        "# I want to download this folder\n",
        "folder_id=\"1HvIeNhqtFVllXFWzH5NawDdnIfgGDwCK\""
      ],
      "metadata": {
        "id": "Vqp3VLSwypOH"
      },
      "execution_count": null,
      "outputs": []
    },
    {
      "cell_type": "code",
      "source": [
        "'''list all ids of files directly under folder folder_id'''\n",
        "def folder_list(folder_id):\n",
        "  from googleapiclient.discovery import build\n",
        "  gdrive = build('drive', 'v3').files()\n",
        "  res = gdrive.list(q=\"'%s' in parents\" % folder_id).execute()\n",
        "  return [f['id'] for f in res['files']]"
      ],
      "metadata": {
        "id": "OCpcr-c4y1If"
      },
      "execution_count": null,
      "outputs": []
    },
    {
      "cell_type": "code",
      "source": [
        "folder_list(folder_id)"
      ],
      "metadata": {
        "colab": {
          "base_uri": "https://localhost:8080/"
        },
        "id": "gWOCA-gAy4YE",
        "outputId": "661b4ad2-1cc3-4252-8dd6-8309142596e6"
      },
      "execution_count": null,
      "outputs": [
        {
          "output_type": "execute_result",
          "data": {
            "text/plain": [
              "['1MJGCY0uhkwxoBpSXAYWk6WKHUAYMxGlQ',\n",
              " '1KgSEm4A7hCov2Ta6-CZldqT-9JgtiVRI',\n",
              " '16wxQwBvzMUTK5PYdakkaVFV-F38vi7RK',\n",
              " '1LuB1aplL2cl-Hs_BFdZgPoDcCnNsGJBa',\n",
              " '11mzTo7aWTeCs4TSPqKQKbYDl9xIxBISQ',\n",
              " '1VgAS5dGP2ub4G_PJ_4YwEXjEiDhqyiyt',\n",
              " '17duniZO_R7p3eTIkMzSRbNpHdQjonAMQ',\n",
              " '12oSVL5pFxe-DqVk5GWjBYHxbi9gGGYha',\n",
              " '1QKUWh62qzaOIBebJY0IkcAxqHCEaeYo1',\n",
              " '1QEMMVAAsA93qrlXhVxjFH4wbLiU6R6Ds',\n",
              " '18SYApxloSMwaSgnOILkOm7FjOVaFH6DH',\n",
              " '1jAg2oODTyVZvHvDwEdQhmxsnQWG-cbLH',\n",
              " '1toORa_XzdSj4UNMYSyeVmEgEniMot9PJ',\n",
              " '1aHDIvbB6MKZTxIfZgAeU8WzN6JIsGrPa']"
            ]
          },
          "metadata": {},
          "execution_count": 23
        }
      ]
    },
    {
      "cell_type": "code",
      "source": [
        "# download them one by one, notice  !gdown in the loop\n",
        "def folder_download(folder_id):\n",
        "  for fid in folder_list(folder_id):\n",
        "    !gdown -q --id $fid"
      ],
      "metadata": {
        "id": "p76zU49-y7VS"
      },
      "execution_count": null,
      "outputs": []
    },
    {
      "cell_type": "code",
      "source": [
        "folder_download(folder_id)"
      ],
      "metadata": {
        "colab": {
          "base_uri": "https://localhost:8080/"
        },
        "id": "ab8Y2sxhy9mY",
        "outputId": "0ad973bf-d064-4d0e-dc11-181e3d91fe8e"
      },
      "execution_count": null,
      "outputs": [
        {
          "output_type": "stream",
          "name": "stdout",
          "text": [
            "/usr/local/lib/python3.10/dist-packages/gdown/__main__.py:132: FutureWarning: Option `--id` was deprecated in version 4.3.1 and will be removed in 5.0. You don't need to pass it anymore to use a file ID.\n",
            "  warnings.warn(\n",
            "/usr/local/lib/python3.10/dist-packages/gdown/__main__.py:132: FutureWarning: Option `--id` was deprecated in version 4.3.1 and will be removed in 5.0. You don't need to pass it anymore to use a file ID.\n",
            "  warnings.warn(\n",
            "/usr/local/lib/python3.10/dist-packages/gdown/__main__.py:132: FutureWarning: Option `--id` was deprecated in version 4.3.1 and will be removed in 5.0. You don't need to pass it anymore to use a file ID.\n",
            "  warnings.warn(\n",
            "/usr/local/lib/python3.10/dist-packages/gdown/__main__.py:132: FutureWarning: Option `--id` was deprecated in version 4.3.1 and will be removed in 5.0. You don't need to pass it anymore to use a file ID.\n",
            "  warnings.warn(\n",
            "/usr/local/lib/python3.10/dist-packages/gdown/__main__.py:132: FutureWarning: Option `--id` was deprecated in version 4.3.1 and will be removed in 5.0. You don't need to pass it anymore to use a file ID.\n",
            "  warnings.warn(\n",
            "/usr/local/lib/python3.10/dist-packages/gdown/__main__.py:132: FutureWarning: Option `--id` was deprecated in version 4.3.1 and will be removed in 5.0. You don't need to pass it anymore to use a file ID.\n",
            "  warnings.warn(\n",
            "/usr/local/lib/python3.10/dist-packages/gdown/__main__.py:132: FutureWarning: Option `--id` was deprecated in version 4.3.1 and will be removed in 5.0. You don't need to pass it anymore to use a file ID.\n",
            "  warnings.warn(\n",
            "/usr/local/lib/python3.10/dist-packages/gdown/__main__.py:132: FutureWarning: Option `--id` was deprecated in version 4.3.1 and will be removed in 5.0. You don't need to pass it anymore to use a file ID.\n",
            "  warnings.warn(\n",
            "/usr/local/lib/python3.10/dist-packages/gdown/__main__.py:132: FutureWarning: Option `--id` was deprecated in version 4.3.1 and will be removed in 5.0. You don't need to pass it anymore to use a file ID.\n",
            "  warnings.warn(\n",
            "/usr/local/lib/python3.10/dist-packages/gdown/__main__.py:132: FutureWarning: Option `--id` was deprecated in version 4.3.1 and will be removed in 5.0. You don't need to pass it anymore to use a file ID.\n",
            "  warnings.warn(\n",
            "/usr/local/lib/python3.10/dist-packages/gdown/__main__.py:132: FutureWarning: Option `--id` was deprecated in version 4.3.1 and will be removed in 5.0. You don't need to pass it anymore to use a file ID.\n",
            "  warnings.warn(\n",
            "/usr/local/lib/python3.10/dist-packages/gdown/__main__.py:132: FutureWarning: Option `--id` was deprecated in version 4.3.1 and will be removed in 5.0. You don't need to pass it anymore to use a file ID.\n",
            "  warnings.warn(\n",
            "/usr/local/lib/python3.10/dist-packages/gdown/__main__.py:132: FutureWarning: Option `--id` was deprecated in version 4.3.1 and will be removed in 5.0. You don't need to pass it anymore to use a file ID.\n",
            "  warnings.warn(\n",
            "/usr/local/lib/python3.10/dist-packages/gdown/__main__.py:132: FutureWarning: Option `--id` was deprecated in version 4.3.1 and will be removed in 5.0. You don't need to pass it anymore to use a file ID.\n",
            "  warnings.warn(\n"
          ]
        }
      ]
    },
    {
      "cell_type": "markdown",
      "source": [
        "## Existing magics"
      ],
      "metadata": {
        "id": "ZtKYI3TjNDhY"
      }
    },
    {
      "cell_type": "code",
      "source": [
        "%%html\n",
        "<h1>Heading 1</h1>"
      ],
      "metadata": {
        "id": "J0TeiVmiNEDH"
      },
      "execution_count": null,
      "outputs": []
    },
    {
      "cell_type": "code",
      "source": [
        "%load_ext rpy2.ipython"
      ],
      "metadata": {
        "id": "QZkk9zjRNGQs"
      },
      "execution_count": null,
      "outputs": []
    },
    {
      "cell_type": "code",
      "source": [
        "%%R\n",
        "test <- 50\n",
        "print(test)"
      ],
      "metadata": {
        "id": "mwUCxW3ANIZr"
      },
      "execution_count": null,
      "outputs": []
    },
    {
      "cell_type": "markdown",
      "source": [
        "## Your new magics"
      ],
      "metadata": {
        "id": "l6k6p02YNfk8"
      }
    },
    {
      "cell_type": "code",
      "source": [
        "import re\n",
        "from IPython.display import HTML\n",
        "from IPython.core.magic import register_cell_magic"
      ],
      "metadata": {
        "id": "iuQAsMNMNg0p"
      },
      "execution_count": null,
      "outputs": []
    },
    {
      "cell_type": "code",
      "source": [
        "def var_sub(m):\n",
        "  v = globals()[m[1]]\n",
        "  if type(v) != str:\n",
        "    v = repr(v)\n",
        "  return v"
      ],
      "metadata": {
        "id": "__0rVE28NkjL"
      },
      "execution_count": null,
      "outputs": []
    },
    {
      "cell_type": "code",
      "source": [
        "@register_cell_magic\n",
        "def javascript(line=\"\", cell=\"\"):\n",
        "  # var sub\n",
        "  cell = re.sub(r'\\{\\{(\\w+)+}}', var_sub, cell)\n",
        "\n",
        "  m = re.match(r'\\w+', line)\n",
        "  if m:                       # assign to a variable\n",
        "    globals()[m[0]] = cell\n",
        "  else:                       # normal display\n",
        "    display(HTML(\"\"\"\n",
        "<div id=\"drawing\"></div>\n",
        "<script src=\"https://cdnjs.cloudflare.com/ajax/libs/svg.js/2.6.5/svg.js\"></script>\n",
        "<script>\n",
        "var draw = SVG('drawing').size('100%', 100)\n",
        "var y_cursor_pos = 0\n",
        "function print(x){\n",
        "  draw.text(x.toString()).move(400, y_cursor_pos)\n",
        "  y_cursor_pos += 20\n",
        "}\n",
        "\n",
        "text = s=> draw.text(s).font('anchor', 'middle')\n",
        "line = (x1,y1, x2,y2)=> draw.line(x1,y1, x2, y2).stroke({width: 1})\n",
        "max = Math.max\n",
        "\"\"\" + cell))"
      ],
      "metadata": {
        "id": "rdgTzJspNoGJ"
      },
      "execution_count": null,
      "outputs": []
    },
    {
      "cell_type": "code",
      "source": [
        "%%javascript\n",
        "\n",
        "draw.rect(200, 200)"
      ],
      "metadata": {
        "id": "j7VKlwpFOLg2"
      },
      "execution_count": null,
      "outputs": []
    },
    {
      "cell_type": "code",
      "source": [
        "# install\n",
        "!wget https://artifacts.elastic.co/downloads/elasticsearch/elasticsearch-7.0.0-linux-x86_64.tar.gz -q\n",
        "!tar -xzf elasticsearch-7.0.0-linux-x86_64.tar.gz\n",
        "!chown -R daemon:daemon elasticsearch-7.0.0\n"
      ],
      "metadata": {
        "id": "aGzCiWuLOQt4"
      },
      "execution_count": null,
      "outputs": []
    },
    {
      "cell_type": "code",
      "source": [
        "# start server\n",
        "import os\n",
        "from subprocess import Popen, PIPE, STDOUT\n",
        "es_server = Popen(['elasticsearch-7.0.0/bin/elasticsearch'],\n",
        "                  stdout=PIPE, stderr=STDOUT,\n",
        "                  preexec_fn=lambda: os.setuid(1)  # as daemon\n",
        "                 )"
      ],
      "metadata": {
        "id": "Dirt14RbQpSO"
      },
      "execution_count": null,
      "outputs": []
    },
    {
      "cell_type": "code",
      "source": [
        "!curl -X GET \"localhost:9200/\""
      ],
      "metadata": {
        "colab": {
          "base_uri": "https://localhost:8080/"
        },
        "id": "oGLd7eg5Q3R4",
        "outputId": "4238c843-aa8c-436c-ae31-ac8b235f8e2a"
      },
      "execution_count": null,
      "outputs": [
        {
          "output_type": "stream",
          "name": "stdout",
          "text": [
            "{\n",
            "  \"name\" : \"c4d5ecbeabec\",\n",
            "  \"cluster_name\" : \"elasticsearch\",\n",
            "  \"cluster_uuid\" : \"iDae0ypmT_KHaZSS8N9BiQ\",\n",
            "  \"version\" : {\n",
            "    \"number\" : \"7.0.0\",\n",
            "    \"build_flavor\" : \"default\",\n",
            "    \"build_type\" : \"tar\",\n",
            "    \"build_hash\" : \"b7e28a7\",\n",
            "    \"build_date\" : \"2019-04-05T22:55:32.697037Z\",\n",
            "    \"build_snapshot\" : false,\n",
            "    \"lucene_version\" : \"8.0.0\",\n",
            "    \"minimum_wire_compatibility_version\" : \"6.7.0\",\n",
            "    \"minimum_index_compatibility_version\" : \"6.0.0-beta1\"\n",
            "  },\n",
            "  \"tagline\" : \"You Know, for Search\"\n",
            "}\n"
          ]
        }
      ]
    },
    {
      "cell_type": "code",
      "source": [
        "from requests import models, Session, Request\n",
        "from urllib.parse import urljoin\n",
        "from IPython.core.magic import register_cell_magic\n",
        "import re\n",
        "\n",
        "# to display json response\n",
        "def render(r):\n",
        "  text = r.text\n",
        "  if text[0] in \"[{\":  # really json\n",
        "    return \"\"\"\n",
        "    <script src=\"https://rawgit.com/caldwell/renderjson/master/renderjson.js\"></script>\n",
        "    <script>\n",
        "    renderjson.set_show_to_level(1)\n",
        "    document.body.appendChild(renderjson(%s))\n",
        "    new ResizeObserver(google.colab.output.resizeIframeToContent).observe(document.body)\n",
        "    </script>\n",
        "    \"\"\" % text\n",
        "  else:    # other status text\n",
        "    return \"<pre>%s</pre>\" % text\n",
        "models.Response._repr_html_ = render"
      ],
      "metadata": {
        "id": "i-YxyJapQ6wu"
      },
      "execution_count": null,
      "outputs": []
    },
    {
      "cell_type": "code",
      "source": [
        "# %%es magic\n",
        "@register_cell_magic\n",
        "def es(line=None, cell=\"\"):\n",
        "  cell = re.sub(r'(?m)^\\s*#.*\\n?','', cell) # remove comment\n",
        "  line1 = (cell + '\\n').find('\\n')\n",
        "  method, path = cell[:line1].split(None, 1)\n",
        "  body = cell[line1:].strip()\n",
        "  args = {}\n",
        "  if body:\n",
        "    args['data'] = (body + '\\n').encode()  # in case _bulk\n",
        "    args['headers'] = {'Content-Type': 'application/json'}\n",
        "\n",
        "  rsp = Session().send(\n",
        "          Request(method, urljoin('http://localhost:9200', path), **args)\n",
        "            .prepare())\n",
        "  return rsp"
      ],
      "metadata": {
        "id": "zSv4gRDfRHMC"
      },
      "execution_count": null,
      "outputs": []
    },
    {
      "cell_type": "code",
      "source": [
        "%%es\n",
        "GET /"
      ],
      "metadata": {
        "colab": {
          "base_uri": "https://localhost:8080/",
          "height": 139
        },
        "id": "LZHn2OGjRJj6",
        "outputId": "1ca3d24b-a6a1-429c-de35-0f7a8a48a456"
      },
      "execution_count": null,
      "outputs": [
        {
          "output_type": "execute_result",
          "data": {
            "text/plain": [
              "<Response [200]>"
            ],
            "text/html": [
              "\n",
              "    <script src=\"https://rawgit.com/caldwell/renderjson/master/renderjson.js\"></script>\n",
              "    <script>\n",
              "    renderjson.set_show_to_level(1)\n",
              "    document.body.appendChild(renderjson({\n",
              "  \"name\" : \"c4d5ecbeabec\",\n",
              "  \"cluster_name\" : \"elasticsearch\",\n",
              "  \"cluster_uuid\" : \"iDae0ypmT_KHaZSS8N9BiQ\",\n",
              "  \"version\" : {\n",
              "    \"number\" : \"7.0.0\",\n",
              "    \"build_flavor\" : \"default\",\n",
              "    \"build_type\" : \"tar\",\n",
              "    \"build_hash\" : \"b7e28a7\",\n",
              "    \"build_date\" : \"2019-04-05T22:55:32.697037Z\",\n",
              "    \"build_snapshot\" : false,\n",
              "    \"lucene_version\" : \"8.0.0\",\n",
              "    \"minimum_wire_compatibility_version\" : \"6.7.0\",\n",
              "    \"minimum_index_compatibility_version\" : \"6.0.0-beta1\"\n",
              "  },\n",
              "  \"tagline\" : \"You Know, for Search\"\n",
              "}\n",
              "))\n",
              "    new ResizeObserver(google.colab.output.resizeIframeToContent).observe(document.body)\n",
              "    </script>\n",
              "    "
            ]
          },
          "metadata": {},
          "execution_count": 13
        }
      ]
    },
    {
      "cell_type": "code",
      "source": [
        "%%es\n",
        "PUT /customer/_doc/1\n",
        "{\n",
        "  \"name\": \"Sam Singh\"\n",
        "}"
      ],
      "metadata": {
        "colab": {
          "base_uri": "https://localhost:8080/",
          "height": 191
        },
        "id": "3Uai_kerRLCq",
        "outputId": "1a25adbe-6a36-49fc-eb39-2f8c55ea97a4"
      },
      "execution_count": null,
      "outputs": [
        {
          "output_type": "execute_result",
          "data": {
            "text/plain": [
              "<Response [201]>"
            ],
            "text/html": [
              "\n",
              "    <script src=\"https://rawgit.com/caldwell/renderjson/master/renderjson.js\"></script>\n",
              "    <script>\n",
              "    renderjson.set_show_to_level(1)\n",
              "    document.body.appendChild(renderjson({\"_index\":\"customer\",\"_type\":\"_doc\",\"_id\":\"1\",\"_version\":1,\"result\":\"created\",\"_shards\":{\"total\":2,\"successful\":1,\"failed\":0},\"_seq_no\":0,\"_primary_term\":1}))\n",
              "    new ResizeObserver(google.colab.output.resizeIframeToContent).observe(document.body)\n",
              "    </script>\n",
              "    "
            ]
          },
          "metadata": {},
          "execution_count": 14
        }
      ]
    },
    {
      "cell_type": "code",
      "source": [
        "%%es\n",
        "PUT customer/_doc/2\n",
        "{\n",
        "  \"name\": \"will miller\"\n",
        "}"
      ],
      "metadata": {
        "colab": {
          "base_uri": "https://localhost:8080/",
          "height": 191
        },
        "id": "mVRTtUGMRPsY",
        "outputId": "0d46ecda-7b3c-4da3-8a07-3c11d0ed5a07"
      },
      "execution_count": null,
      "outputs": [
        {
          "output_type": "execute_result",
          "data": {
            "text/plain": [
              "<Response [201]>"
            ],
            "text/html": [
              "\n",
              "    <script src=\"https://rawgit.com/caldwell/renderjson/master/renderjson.js\"></script>\n",
              "    <script>\n",
              "    renderjson.set_show_to_level(1)\n",
              "    document.body.appendChild(renderjson({\"_index\":\"customer\",\"_type\":\"_doc\",\"_id\":\"2\",\"_version\":1,\"result\":\"created\",\"_shards\":{\"total\":2,\"successful\":1,\"failed\":0},\"_seq_no\":1,\"_primary_term\":1}))\n",
              "    new ResizeObserver(google.colab.output.resizeIframeToContent).observe(document.body)\n",
              "    </script>\n",
              "    "
            ]
          },
          "metadata": {},
          "execution_count": 15
        }
      ]
    },
    {
      "cell_type": "code",
      "source": [],
      "metadata": {
        "id": "b17p-fYMRf2m"
      },
      "execution_count": null,
      "outputs": []
    },
    {
      "cell_type": "markdown",
      "source": [
        "## Python calls JS"
      ],
      "metadata": {
        "id": "045Y3fPORiw4"
      }
    },
    {
      "cell_type": "code",
      "source": [
        "%%html\n",
        "<script>\n",
        "document.body.append(document.createTextNode(\"Hi this is google colab tutorial\"))\n",
        "</script>"
      ],
      "metadata": {
        "colab": {
          "base_uri": "https://localhost:8080/",
          "height": 34
        },
        "id": "JlhIhstORjLe",
        "outputId": "05c64556-3ff5-4bd0-aea7-e25da11aa549"
      },
      "execution_count": null,
      "outputs": [
        {
          "output_type": "display_data",
          "data": {
            "text/plain": [
              "<IPython.core.display.HTML object>"
            ],
            "text/html": [
              "<script>\n",
              "document.body.append(document.createTextNode(\"Hi this is google colab tutorial\"))\n",
              "</script>\n"
            ]
          },
          "metadata": {}
        }
      ]
    },
    {
      "cell_type": "code",
      "source": [
        "from IPython.display import Javascript\n",
        "Javascript('document.body.append(document.createTextNode(\"good to see you\"))')"
      ],
      "metadata": {
        "colab": {
          "base_uri": "https://localhost:8080/",
          "height": 34
        },
        "id": "VbxcmczmRsVa",
        "outputId": "7345d407-c408-45b7-c774-ea456478483b"
      },
      "execution_count": null,
      "outputs": [
        {
          "output_type": "execute_result",
          "data": {
            "text/plain": [
              "<IPython.core.display.Javascript object>"
            ],
            "application/javascript": [
              "document.body.append(document.createTextNode(\"good to see you\"))"
            ]
          },
          "metadata": {},
          "execution_count": 18
        }
      ]
    },
    {
      "cell_type": "code",
      "source": [
        "from google.colab.output import eval_js\n",
        "eval_js('1+1')"
      ],
      "metadata": {
        "colab": {
          "base_uri": "https://localhost:8080/",
          "height": 35
        },
        "id": "VrwgfwIXRumu",
        "outputId": "f7a52429-4f33-4fb8-94b6-cd0988949de1"
      },
      "execution_count": null,
      "outputs": [
        {
          "output_type": "execute_result",
          "data": {
            "text/plain": [
              "2"
            ]
          },
          "metadata": {},
          "execution_count": 19
        }
      ]
    },
    {
      "cell_type": "code",
      "source": [],
      "metadata": {
        "id": "Yo9DAoaeRz0S"
      },
      "execution_count": null,
      "outputs": []
    },
    {
      "cell_type": "markdown",
      "source": [
        "## JS calls Python"
      ],
      "metadata": {
        "id": "HbTnmuFBR3VZ"
      }
    },
    {
      "cell_type": "code",
      "source": [
        "from IPython.display import JSON\n",
        "import IPython.display as idisplay\n",
        "from google.colab import output\n",
        "\n",
        "def concat(a, b):\n",
        "  return JSON({'result': '%s %s' % (a, b)})\n",
        "\n",
        "output.register_callback('notebook.concat', concat)"
      ],
      "metadata": {
        "id": "FNubVmyfR4tT"
      },
      "execution_count": null,
      "outputs": []
    },
    {
      "cell_type": "code",
      "source": [
        "idisplay.Javascript('''\n",
        "(async function() {\n",
        "\n",
        "  const result = await google.colab.kernel.invokeFunction(\n",
        "    'notebook.concat',\n",
        "    ['hello', 'world!'],\n",
        "    {});\n",
        "\n",
        "  const text = result.data['application/json'].result;\n",
        "\n",
        "  document.querySelector(\"#output-area\").appendChild(document.createTextNode(text))\n",
        "\n",
        "})();\n",
        "''')"
      ],
      "metadata": {
        "colab": {
          "base_uri": "https://localhost:8080/",
          "height": 34
        },
        "id": "deGZFYf8R6sm",
        "outputId": "6e9942f5-1b89-432a-b81c-754c196d9974"
      },
      "execution_count": null,
      "outputs": [
        {
          "output_type": "execute_result",
          "data": {
            "text/plain": [
              "<IPython.core.display.Javascript object>"
            ],
            "application/javascript": [
              "\n",
              "(async function() {\n",
              "\n",
              "  const result = await google.colab.kernel.invokeFunction(\n",
              "    'notebook.concat',  \n",
              "    ['hello', 'world!'],\n",
              "    {});\n",
              "    \n",
              "  const text = result.data['application/json'].result;\n",
              "  \n",
              "  document.querySelector(\"#output-area\").appendChild(document.createTextNode(text))\n",
              "  \n",
              "})();\n"
            ]
          },
          "metadata": {},
          "execution_count": 21
        }
      ]
    },
    {
      "cell_type": "code",
      "source": [],
      "metadata": {
        "id": "nH4E9uzSR8VK"
      },
      "execution_count": null,
      "outputs": []
    },
    {
      "cell_type": "markdown",
      "source": [
        "## take Photo"
      ],
      "metadata": {
        "id": "qtZeaVV8R-Gl"
      }
    },
    {
      "cell_type": "code",
      "source": [
        "from IPython.display import HTML, Image\n",
        "from google.colab.output import eval_js\n",
        "from base64 import b64decode"
      ],
      "metadata": {
        "id": "vOqSRYRTSAYV"
      },
      "execution_count": null,
      "outputs": []
    },
    {
      "cell_type": "code",
      "source": [
        "VIDEO_HTML = \"\"\"\n",
        "<video autoplay\n",
        " width=800 height=600></video>\n",
        "<script>\n",
        "var video = document.querySelector('video')\n",
        "navigator.mediaDevices.getUserMedia({ video: true })\n",
        "  .then(stream=> video.srcObject = stream)\n",
        "\n",
        "var data = new Promise(resolve=>{\n",
        "  video.onclick = ()=>{\n",
        "    var canvas = document.createElement('canvas')\n",
        "    var [w,h] = [video.offsetWidth, video.offsetHeight]\n",
        "    canvas.width = w\n",
        "    canvas.height = h\n",
        "    canvas.getContext('2d')\n",
        "          .drawImage(video, 0, 0, w, h)\n",
        "    video.srcObject.getVideoTracks()[0].stop()\n",
        "    video.replaceWith(canvas)\n",
        "    resolve(canvas.toDataURL('image/jpeg', %f))\n",
        "  }\n",
        "})\n",
        "</script>\n",
        "\"\"\""
      ],
      "metadata": {
        "id": "S6MiIkdsSEYF"
      },
      "execution_count": null,
      "outputs": []
    },
    {
      "cell_type": "code",
      "source": [
        "def take_photo(filename='photo.jpg', quality=0.8):\n",
        "  display(HTML(VIDEO_HTML % quality))\n",
        "  data = eval_js(\"data\")\n",
        "  binary = b64decode(data.split(',')[1])\n",
        "  with open(filename, 'wb') as f:\n",
        "    f.write(binary)\n",
        "  return len(binary)"
      ],
      "metadata": {
        "id": "VgP2QDhuSFzA"
      },
      "execution_count": null,
      "outputs": []
    },
    {
      "cell_type": "code",
      "source": [
        "take_photo()"
      ],
      "metadata": {
        "id": "DNo9QBEpSI2w"
      },
      "execution_count": null,
      "outputs": []
    }
  ]
}